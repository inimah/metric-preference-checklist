{
 "cells": [
  {
   "cell_type": "code",
   "execution_count": 1,
   "id": "5ec06ec4",
   "metadata": {},
   "outputs": [],
   "source": [
    "%matplotlib inline\n",
    "import os\n",
    "import glob\n",
    "import json\n",
    "from collections import Counter, defaultdict\n",
    "\n",
    "import urllib\n",
    "import numpy as np\n",
    "import pandas as pd\n",
    "import matplotlib.pyplot as plt\n",
    "import seaborn as sns"
   ]
  },
  {
   "cell_type": "code",
   "execution_count": 2,
   "id": "d137071a",
   "metadata": {},
   "outputs": [],
   "source": [
    "\n",
    "corr_perplexity = [\n",
    "    0.17165578840484788, #USR-TC ID\n",
    " 0.17297584254696088, # USR-PC ID\n",
    " 0.1661315711340646, # UniEval-TC ID\n",
    " 0.032366027140112996, # UBER-Topic OOD1\n",
    " 0.010696948579908489, # CTRLEval-Topic OOD1\n",
    " -0.06846298997429787, #summEVal OOD2\n",
    " -0.11408465021570813, # UniEval-SummEval OOD2\n",
    " -0.16673806048197465 # Newsroom OOD2\n",
    "]"
   ]
  },
  {
   "cell_type": "code",
   "execution_count": 3,
   "id": "d7375884",
   "metadata": {},
   "outputs": [
    {
     "data": {
      "text/plain": [
       "[0.1702544006952911, 0.02153148786001074, -0.11642856689066021]"
      ]
     },
     "execution_count": 3,
     "metadata": {},
     "output_type": "execute_result"
    }
   ],
   "source": [
    "# ID vs OOD-1 vs OOD-2\n",
    "corr_perplexity_ = [np.mean(corr_perplexity[0:3]), np.mean(corr_perplexity[3:5]), np.mean(corr_perplexity[5:])]\n",
    "corr_perplexity_"
   ]
  },
  {
   "cell_type": "code",
   "execution_count": 4,
   "id": "c2122ba6",
   "metadata": {},
   "outputs": [
    {
     "data": {
      "text/plain": [
       "[-0.11642856689066021, 0.1702544006952911, 0.02153148786001074]"
      ]
     },
     "execution_count": 4,
     "metadata": {},
     "output_type": "execute_result"
    }
   ],
   "source": [
    "# across NLG use cases: TextSumm, DiagGen, CtrlGen, \n",
    "\n",
    "corr_perplexity = np.array(corr_perplexity)\n",
    "corr_perplexity_1 = [np.mean(corr_perplexity[5:]), np.mean(corr_perplexity[:3]), np.mean(corr_perplexity[3:5])]\n",
    "corr_perplexity_1"
   ]
  },
  {
   "cell_type": "code",
   "execution_count": 5,
   "id": "95dd01fd",
   "metadata": {},
   "outputs": [],
   "source": [
    "\n",
    "corr_bleu = [\n",
    "    0.3592525696328984, # Newsroom ID\n",
    " 0.2247383747380582, # Unieval Summeval ID\n",
    "     0.12053111969812824, # Summeval ID\n",
    " 0.22904048750828201, # Unieval TC - OOD1\n",
    " 0.1955577733470664, # USR TC OOD1\n",
    " 0.11761478744841077 # USR PC OOD1\n",
    "]"
   ]
  },
  {
   "cell_type": "code",
   "execution_count": 6,
   "id": "c0393604",
   "metadata": {},
   "outputs": [
    {
     "data": {
      "text/plain": [
       "[0.23484068802302827, 0.1807376827679197, 0.0]"
      ]
     },
     "execution_count": 6,
     "metadata": {},
     "output_type": "execute_result"
    }
   ],
   "source": [
    "# ID vs OOD-1 vs OOD-2\n",
    "\n",
    "corr_bleu_ = [np.mean(corr_bleu[:3]), np.mean(corr_bleu[3:]), 0.]\n",
    "corr_bleu_"
   ]
  },
  {
   "cell_type": "code",
   "execution_count": 7,
   "id": "f422d44a",
   "metadata": {},
   "outputs": [
    {
     "data": {
      "text/plain": [
       "[0.23484068802302827, 0.1807376827679197, 0.0]"
      ]
     },
     "execution_count": 7,
     "metadata": {},
     "output_type": "execute_result"
    }
   ],
   "source": [
    "# across NLG use cases: DiagGen, CtrlGen, TextSumm\n",
    "\n",
    "\n",
    "corr_bleu = np.array(corr_bleu)\n",
    "corr_bleu_1 = [np.mean(corr_bleu[:3]), np.mean(corr_bleu[3:]), 0.]\n",
    "corr_bleu_1"
   ]
  },
  {
   "cell_type": "code",
   "execution_count": 8,
   "id": "0f298cc6",
   "metadata": {},
   "outputs": [],
   "source": [
    "corr_rouge = [\n",
    "    0.23446480891682248, #ID\n",
    " 0.2247383747380582, #ID\n",
    " 0.12550835076772485, #ID\n",
    " 0.2769324064462076, #OOD1\n",
    " 0.23355840734187128, #OOD1\n",
    " 0.10495289929159608 #OOD1\n",
    "]"
   ]
  },
  {
   "cell_type": "code",
   "execution_count": 9,
   "id": "2ea843d6",
   "metadata": {},
   "outputs": [
    {
     "data": {
      "text/plain": [
       "[0.19490384480753517, 0.20514790435989164, 0.0]"
      ]
     },
     "execution_count": 9,
     "metadata": {},
     "output_type": "execute_result"
    }
   ],
   "source": [
    "# ID vs OOD-1 vs OOD-2\n",
    "\n",
    "corr_rouge_ = [np.mean(corr_rouge[:3]), np.mean(corr_rouge[3:]), 0.]\n",
    "corr_rouge_"
   ]
  },
  {
   "cell_type": "code",
   "execution_count": 10,
   "id": "e003a7e1",
   "metadata": {},
   "outputs": [
    {
     "data": {
      "text/plain": [
       "[0.19490384480753517, 0.20514790435989164, 0.0]"
      ]
     },
     "execution_count": 10,
     "metadata": {},
     "output_type": "execute_result"
    }
   ],
   "source": [
    "# across NLG use cases: DiagGen, CtrlGen, TextSumm\n",
    "\n",
    "corr_rouge = np.array(corr_rouge)\n",
    "corr_rouge_1 = [np.mean(corr_rouge[:3]), np.mean(corr_rouge[3:]), 0.]\n",
    "corr_rouge_1"
   ]
  },
  {
   "cell_type": "code",
   "execution_count": 11,
   "id": "147650e0",
   "metadata": {},
   "outputs": [
    {
     "data": {
      "text/plain": [
       "array([0.21487227, 0.19294279, 0.        ])"
      ]
     },
     "execution_count": 11,
     "metadata": {},
     "output_type": "execute_result"
    }
   ],
   "source": [
    "corr_bleu_rouge = np.mean([corr_bleu_, corr_rouge_], axis=0)\n",
    "corr_bleu_rouge"
   ]
  },
  {
   "cell_type": "code",
   "execution_count": 12,
   "id": "160344f4",
   "metadata": {},
   "outputs": [],
   "source": [
    "corr_bertsc = [\n",
    "    0.29876976141021844,# unieval summeval ID\n",
    " 0.15932068587461895, # summeval ID\n",
    " 0.18134403280548386, # newsroom ID\n",
    " 0.09665172447093777, # unieval TC OOD1\n",
    " 0.08901202279441296, #usr tc OOD1\n",
    " 0.038904003441765644, # usr pc OOD1\n",
    " 0.07653050702942499, # uber topic OOD2\n",
    " 0.03179195327739547 # ctrleval topic OOD2\n",
    "]"
   ]
  },
  {
   "cell_type": "code",
   "execution_count": 13,
   "id": "c16aa378",
   "metadata": {},
   "outputs": [
    {
     "data": {
      "text/plain": [
       "[0.21314482669677373, 0.07485591690237213, 0.054161230153410234]"
      ]
     },
     "execution_count": 13,
     "metadata": {},
     "output_type": "execute_result"
    }
   ],
   "source": [
    "# ID vs OOD-1 vs OOD-2\n",
    "\n",
    "corr_bertsc_ = [np.mean(corr_bertsc[:3]), np.mean(corr_bertsc[3:6]), np.mean(corr_bertsc[6:])]\n",
    "corr_bertsc_"
   ]
  },
  {
   "cell_type": "code",
   "execution_count": 14,
   "id": "49580a66",
   "metadata": {},
   "outputs": [
    {
     "data": {
      "text/plain": [
       "[0.21314482669677373, 0.07485591690237213, 0.054161230153410234]"
      ]
     },
     "execution_count": 14,
     "metadata": {},
     "output_type": "execute_result"
    }
   ],
   "source": [
    "# across NLG use cases: TextSumm, DiagGen, CtrlGen, \n",
    "\n",
    "corr_bertsc = np.array(corr_bertsc)\n",
    "\n",
    "corr_bertsc_1 = [np.mean(corr_bertsc[:3]), np.mean(corr_bertsc[3:6]), np.mean(corr_bertsc[6:])]\n",
    "corr_bertsc_1"
   ]
  },
  {
   "cell_type": "code",
   "execution_count": 15,
   "id": "3a775e0b",
   "metadata": {},
   "outputs": [],
   "source": [
    "corr_ctc = [\n",
    "    0.24481788597506907, # summeval ID\n",
    " 0.2772823994406213, # newsroom ID\n",
    " 0.25693390877038963, # TC ID\n",
    " 0.13865513258781878, # TC OOD1\n",
    " 0.044175621551951164, # PC OOD1\n",
    " 0.01753021306664179, # ctrleval summ OOD2\n",
    " 0.031439811729561444 # # uber summ OOD2\n",
    "]"
   ]
  },
  {
   "cell_type": "code",
   "execution_count": 16,
   "id": "1f82e32e",
   "metadata": {},
   "outputs": [
    {
     "data": {
      "text/plain": [
       "[0.2596780647286933, 0.09141537706988498, 0.024485012398101615]"
      ]
     },
     "execution_count": 16,
     "metadata": {},
     "output_type": "execute_result"
    }
   ],
   "source": [
    "# ID vs OOD-1 vs OOD-2\n",
    "\n",
    "corr_ctc_ = [np.mean(corr_ctc[:3]), np.mean(corr_ctc[3:5]), np.mean(corr_ctc[5:])]\n",
    "corr_ctc_"
   ]
  },
  {
   "cell_type": "code",
   "execution_count": 17,
   "id": "9a190515",
   "metadata": {},
   "outputs": [
    {
     "data": {
      "text/plain": [
       "[0.26105014270784516, 0.14658822097005317, 0.024485012398101615]"
      ]
     },
     "execution_count": 17,
     "metadata": {},
     "output_type": "execute_result"
    }
   ],
   "source": [
    "# across NLG use cases: DiagGen, CtrlGen, TextSumm\n",
    "\n",
    "corr_ctc = np.array(corr_ctc)\n",
    "corr_ctc_1 = [np.mean(corr_ctc[:2]), np.mean(corr_ctc[2:5]), np.mean(corr_ctc[5:])]\n",
    "corr_ctc_1"
   ]
  },
  {
   "cell_type": "code",
   "execution_count": 18,
   "id": "d0f2aaa7",
   "metadata": {},
   "outputs": [],
   "source": [
    "corr_ctrleval = [0.14547170319794478, # ctrleval ID\n",
    " 0.23007322272559602, # newsroom OOD1\n",
    " 0.08286056551557061, # summeval OOD1\n",
    "0.026449063463990955, # uber OOD2\n",
    " 0.09157061601029039, # usr TC OOD2\n",
    " 0.055824186826954086] # usr PC OOD2"
   ]
  },
  {
   "cell_type": "code",
   "execution_count": 19,
   "id": "ebcb0ea7",
   "metadata": {},
   "outputs": [
    {
     "data": {
      "text/plain": [
       "[0.14547170319794478, 0.15646689412058332, 0.057947955433745146]"
      ]
     },
     "execution_count": 19,
     "metadata": {},
     "output_type": "execute_result"
    }
   ],
   "source": [
    "# ID vs OOD-1 vs OOD-2\n",
    "\n",
    "corr_ctrleval_ = [np.mean(corr_ctrleval[0]), np.mean(corr_ctrleval[1:3]), np.mean(corr_ctrleval[3:])]\n",
    "corr_ctrleval_"
   ]
  },
  {
   "cell_type": "code",
   "execution_count": 20,
   "id": "45aa7e70",
   "metadata": {},
   "outputs": [
    {
     "data": {
      "text/plain": [
       "[0.15646689412058332, 0.07369740141862224, 0.08596038333096787]"
      ]
     },
     "execution_count": 20,
     "metadata": {},
     "output_type": "execute_result"
    }
   ],
   "source": [
    "# across NLG use cases: DiagGen, CtrlGen, TextSumm\n",
    "\n",
    "corr_ctrleval = np.array(corr_ctrleval)\n",
    "corr_ctrleval_1 = [np.mean(corr_ctrleval[1:3]), np.mean(corr_ctrleval[4:]), np.mean([corr_ctrleval[0], corr_ctrleval[3]])]\n",
    "corr_ctrleval_1"
   ]
  },
  {
   "cell_type": "code",
   "execution_count": 21,
   "id": "522f6119",
   "metadata": {},
   "outputs": [],
   "source": [
    "corr_unieval = [0.4285301669194775, # unieval summeval ID\n",
    " 0.461317332690916, # unieval tc ID\n",
    " 0.26460371803392924, # newsroom OOD1\n",
    " 0.3301107415694347, # summeval OOD1\n",
    " 0.19378715183648387, # usr tc OOD1\n",
    " 0.23818727150401958,# usr pc OOD1\n",
    " -0.0016531424684659943, # uber topic summ OOD2\n",
    " 0.014038967167214245, # ctrleval summ OOD2\n",
    "               ] "
   ]
  },
  {
   "cell_type": "code",
   "execution_count": 22,
   "id": "28f7efb9",
   "metadata": {},
   "outputs": [
    {
     "data": {
      "text/plain": [
       "[0.4449237498051968, 0.25667222073596685, 0.006192912349374125]"
      ]
     },
     "execution_count": 22,
     "metadata": {},
     "output_type": "execute_result"
    }
   ],
   "source": [
    "# ID vs OOD-1 vs OOD-2\n",
    "\n",
    "corr_unieval_ = [np.mean(corr_unieval[:2]), np.mean(corr_unieval[2:6]), np.mean(corr_unieval[6:])]\n",
    "corr_unieval_"
   ]
  },
  {
   "cell_type": "code",
   "execution_count": 23,
   "id": "bedf6511",
   "metadata": {},
   "outputs": [
    {
     "data": {
      "text/plain": [
       "[0.3410815421742805, 0.29776391867713986, 0.006192912349374125]"
      ]
     },
     "execution_count": 23,
     "metadata": {},
     "output_type": "execute_result"
    }
   ],
   "source": [
    "# across NLG use cases: TextSumm, DiagGen, CtrlGen, \n",
    "\n",
    "corr_unieval = np.array(corr_unieval)\n",
    "corr_unieval_1 = [np.mean([corr_unieval[0], corr_unieval[2] , corr_unieval[3]]),\\\n",
    "                  np.mean([corr_unieval[1], corr_unieval[4], corr_unieval[5]]), np.mean(corr_unieval[6:])]\n",
    "corr_unieval_1"
   ]
  },
  {
   "cell_type": "code",
   "execution_count": 24,
   "id": "5da7af56",
   "metadata": {},
   "outputs": [],
   "source": [
    "df = pd.DataFrame([['ID', 0.1702544006952911, 0.21487227, 0.21314482669677373, 0.2596780647286933 ,\\\n",
    "                    0.14547170319794478, 0.4449237498051968],\\\n",
    "                   ['Semantic\\nOOD', 0.02153148786001074, 0.19294279,  0.07485591690237213, 0.09141537706988498, \\\n",
    "                    0.15646689412058332, 0.25667222073596685], \\\n",
    "                   ['Domain\\nOOD', -0.11642856689066021 , 0.0,  0.054161230153410234, 0.024485012398101615, \\\n",
    "                    0.057947955433745146,  0.006192912349374125]],\n",
    "                  columns=['Domain', 'LM-Perplexity', 'Surface-level',  'Semantic', 'Single-CTC',\\\n",
    "                           'Single-CtrlEval', 'Multi-UniEval'])"
   ]
  },
  {
   "cell_type": "code",
   "execution_count": 25,
   "id": "d32e85fc",
   "metadata": {},
   "outputs": [
    {
     "data": {
      "text/html": [
       "<div>\n",
       "<style scoped>\n",
       "    .dataframe tbody tr th:only-of-type {\n",
       "        vertical-align: middle;\n",
       "    }\n",
       "\n",
       "    .dataframe tbody tr th {\n",
       "        vertical-align: top;\n",
       "    }\n",
       "\n",
       "    .dataframe thead th {\n",
       "        text-align: right;\n",
       "    }\n",
       "</style>\n",
       "<table border=\"1\" class=\"dataframe\">\n",
       "  <thead>\n",
       "    <tr style=\"text-align: right;\">\n",
       "      <th></th>\n",
       "      <th>Domain</th>\n",
       "      <th>LM-Perplexity</th>\n",
       "      <th>Surface-level</th>\n",
       "      <th>Semantic</th>\n",
       "      <th>Single-CTC</th>\n",
       "      <th>Single-CtrlEval</th>\n",
       "      <th>Multi-UniEval</th>\n",
       "    </tr>\n",
       "  </thead>\n",
       "  <tbody>\n",
       "    <tr>\n",
       "      <th>0</th>\n",
       "      <td>ID</td>\n",
       "      <td>0.170254</td>\n",
       "      <td>0.214872</td>\n",
       "      <td>0.213145</td>\n",
       "      <td>0.259678</td>\n",
       "      <td>0.145472</td>\n",
       "      <td>0.444924</td>\n",
       "    </tr>\n",
       "    <tr>\n",
       "      <th>1</th>\n",
       "      <td>Semantic\\nOOD</td>\n",
       "      <td>0.021531</td>\n",
       "      <td>0.192943</td>\n",
       "      <td>0.074856</td>\n",
       "      <td>0.091415</td>\n",
       "      <td>0.156467</td>\n",
       "      <td>0.256672</td>\n",
       "    </tr>\n",
       "    <tr>\n",
       "      <th>2</th>\n",
       "      <td>Domain\\nOOD</td>\n",
       "      <td>-0.116429</td>\n",
       "      <td>0.000000</td>\n",
       "      <td>0.054161</td>\n",
       "      <td>0.024485</td>\n",
       "      <td>0.057948</td>\n",
       "      <td>0.006193</td>\n",
       "    </tr>\n",
       "  </tbody>\n",
       "</table>\n",
       "</div>"
      ],
      "text/plain": [
       "          Domain  LM-Perplexity  Surface-level  Semantic  Single-CTC  \\\n",
       "0             ID       0.170254       0.214872  0.213145    0.259678   \n",
       "1  Semantic\\nOOD       0.021531       0.192943  0.074856    0.091415   \n",
       "2    Domain\\nOOD      -0.116429       0.000000  0.054161    0.024485   \n",
       "\n",
       "   Single-CtrlEval  Multi-UniEval  \n",
       "0         0.145472       0.444924  \n",
       "1         0.156467       0.256672  \n",
       "2         0.057948       0.006193  "
      ]
     },
     "execution_count": 25,
     "metadata": {},
     "output_type": "execute_result"
    }
   ],
   "source": [
    "df"
   ]
  },
  {
   "cell_type": "code",
   "execution_count": 26,
   "id": "fca0fe8b",
   "metadata": {},
   "outputs": [],
   "source": [
    "from matplotlib import rcParams\n",
    "\n",
    "# figure size in inches\n",
    "rcParams['figure.figsize'] = 10,6\n",
    "rcParams.update({'font.size': 26})"
   ]
  },
  {
   "cell_type": "code",
   "execution_count": 27,
   "id": "6b5c5ac2",
   "metadata": {},
   "outputs": [],
   "source": [
    "import numpy as np"
   ]
  },
  {
   "cell_type": "code",
   "execution_count": 28,
   "id": "98931f47",
   "metadata": {},
   "outputs": [],
   "source": [
    "import seaborn as sns"
   ]
  },
  {
   "cell_type": "code",
   "execution_count": 29,
   "id": "1925f695",
   "metadata": {},
   "outputs": [
    {
     "data": {
      "image/png": "[encoded data removed]",
      "text/plain": [
       "<Figure size 720x432 with 1 Axes>"
      ]
     },
     "metadata": {
      "needs_background": "light"
     },
     "output_type": "display_data"
    }
   ],
   "source": [
    "x = np.arange(3)\n",
    "\n",
    "#colors = [\"#A6CEE3\", \"#1F78B4\", \"#FB9A99\",  \"#B2DF8A\", \"#33A02C\", \"#E31A1C\", \"#FDBF6F\", \"#FF7F00\"]\n",
    "colors = [\"#1F78B4\", \"#A6CEE3\",  \"#FB9A99\",  \"#B2DF8A\", \"#33A02C\", \"#E31A1C\", \"#FDBF6F\", \"#FF7F00\"]\n",
    "sns.set_palette(sns.color_palette(colors))\n",
    "\n",
    "dataset = list(df.Domain.values)\n",
    "\n",
    "# plot grouped bar chart\n",
    "df.plot(x='Domain',\n",
    "        kind='bar',\n",
    "        stacked=False, edgecolor='white', width=.8)\n",
    "\n",
    "plt.xticks(range(len(x)), dataset, rotation=0)\n",
    "plt.xlabel('Domain')\n",
    "plt.ylabel('Correlation to human scores')\n",
    "plt.legend(loc='upper center', bbox_to_anchor=(0.5, 1.45),\n",
    "          ncol=2, fancybox=True, shadow=True)\n",
    "plt.grid(color=\"#A6CEE3\", alpha=0.25)\n",
    "plt.ylim(-0.2, 0.5)\n",
    "plt.show()\n",
    "#plt.savefig('../figures/transfer_corr_domain.pdf',bbox_inches='tight',pad_inches=0.05)"
   ]
  },
  {
   "cell_type": "code",
   "execution_count": 30,
   "id": "608cceb9",
   "metadata": {},
   "outputs": [],
   "source": [
    "df_1 = pd.DataFrame([['TextSumm\\n',-0.11642856689066021 , 0.21487227 , 0.21314482669677373, 0.26105014270784516, \\\n",
    "                      0.15646689412058332, 0.3410815421742805 ],\\\n",
    "                   ['DiagGen\\n ', 0.1702544006952911 , 0.19294279 ,  0.07485591690237213 ,0.14658822097005317 ,\\\n",
    "                    0.07369740141862224,  0.29776391867713986], \\\n",
    "                   ['CtrlGen\\n ', 0.02153148786001074  , 0.0 ,  0.054161230153410234 , 0.024485012398101615 , \\\n",
    "                    0.08596038333096787, 0.006192912349374125]],\n",
    "                  columns=['NLGUsecases', 'LM-Perplexity', 'Surface-level',  'Semantic', \\\n",
    "                           'Single-CTC', 'Single-CtrlEval', 'Multi-UniEval'])"
   ]
  },
  {
   "cell_type": "code",
   "execution_count": 31,
   "id": "6407a42f",
   "metadata": {},
   "outputs": [
    {
     "data": {
      "text/html": [
       "<div>\n",
       "<style scoped>\n",
       "    .dataframe tbody tr th:only-of-type {\n",
       "        vertical-align: middle;\n",
       "    }\n",
       "\n",
       "    .dataframe tbody tr th {\n",
       "        vertical-align: top;\n",
       "    }\n",
       "\n",
       "    .dataframe thead th {\n",
       "        text-align: right;\n",
       "    }\n",
       "</style>\n",
       "<table border=\"1\" class=\"dataframe\">\n",
       "  <thead>\n",
       "    <tr style=\"text-align: right;\">\n",
       "      <th></th>\n",
       "      <th>NLGUsecases</th>\n",
       "      <th>LM-Perplexity</th>\n",
       "      <th>Surface-level</th>\n",
       "      <th>Semantic</th>\n",
       "      <th>Single-CTC</th>\n",
       "      <th>Single-CtrlEval</th>\n",
       "      <th>Multi-UniEval</th>\n",
       "    </tr>\n",
       "  </thead>\n",
       "  <tbody>\n",
       "    <tr>\n",
       "      <th>0</th>\n",
       "      <td>TextSumm\\n</td>\n",
       "      <td>-0.116429</td>\n",
       "      <td>0.214872</td>\n",
       "      <td>0.213145</td>\n",
       "      <td>0.261050</td>\n",
       "      <td>0.156467</td>\n",
       "      <td>0.341082</td>\n",
       "    </tr>\n",
       "    <tr>\n",
       "      <th>1</th>\n",
       "      <td>DiagGen\\n</td>\n",
       "      <td>0.170254</td>\n",
       "      <td>0.192943</td>\n",
       "      <td>0.074856</td>\n",
       "      <td>0.146588</td>\n",
       "      <td>0.073697</td>\n",
       "      <td>0.297764</td>\n",
       "    </tr>\n",
       "    <tr>\n",
       "      <th>2</th>\n",
       "      <td>CtrlGen\\n</td>\n",
       "      <td>0.021531</td>\n",
       "      <td>0.000000</td>\n",
       "      <td>0.054161</td>\n",
       "      <td>0.024485</td>\n",
       "      <td>0.085960</td>\n",
       "      <td>0.006193</td>\n",
       "    </tr>\n",
       "  </tbody>\n",
       "</table>\n",
       "</div>"
      ],
      "text/plain": [
       "  NLGUsecases  LM-Perplexity  Surface-level  Semantic  Single-CTC  \\\n",
       "0  TextSumm\\n      -0.116429       0.214872  0.213145    0.261050   \n",
       "1  DiagGen\\n        0.170254       0.192943  0.074856    0.146588   \n",
       "2  CtrlGen\\n        0.021531       0.000000  0.054161    0.024485   \n",
       "\n",
       "   Single-CtrlEval  Multi-UniEval  \n",
       "0         0.156467       0.341082  \n",
       "1         0.073697       0.297764  \n",
       "2         0.085960       0.006193  "
      ]
     },
     "execution_count": 31,
     "metadata": {},
     "output_type": "execute_result"
    }
   ],
   "source": [
    "df_1"
   ]
  },
  {
   "cell_type": "code",
   "execution_count": 32,
   "id": "7175a944",
   "metadata": {},
   "outputs": [
    {
     "data": {
      "image/png": "[encoded data removed]",
      "text/plain": [
       "<Figure size 720x432 with 1 Axes>"
      ]
     },
     "metadata": {
      "needs_background": "light"
     },
     "output_type": "display_data"
    }
   ],
   "source": [
    "x = np.arange(3)\n",
    "\n",
    "colors = [\"#1F78B4\", \"#A6CEE3\", \"#FB9A99\",  \"#B2DF8A\", \"#33A02C\", \"#E31A1C\", \"#FDBF6F\", \"#FF7F00\"]\n",
    "sns.set_palette(sns.color_palette(colors))\n",
    "\n",
    "# plot grouped bar chart\n",
    "df_1.plot(x='NLGUsecases',\n",
    "        kind='bar',\n",
    "        stacked=False, edgecolor='white', width=.8)\n",
    "\n",
    "nlg = ['TextSumm\\n', 'DiagGen', 'CtrlGen']\n",
    "\n",
    "plt.xticks(range(len(x)), nlg, rotation=0)\n",
    "plt.xlabel('NLG Use cases')\n",
    "plt.ylabel('Correlation to human scores')\n",
    "plt.legend(loc='upper center', bbox_to_anchor=(0.5, 1.45),\n",
    "          ncol=2, fancybox=True, shadow=True)\n",
    "plt.grid(color=\"#A6CEE3\", alpha=0.25)\n",
    "plt.ylim(-0.2, 0.5)\n",
    "plt.show()\n",
    "#plt.savefig('../figures/transfer_corr_nlg.pdf',bbox_inches='tight',pad_inches=0.05)"
   ]
  }
 ],
 "metadata": {
  "kernelspec": {
   "display_name": "transformers_env",
   "language": "python",
   "name": "transformers_env"
  },
  "language_info": {
   "codemirror_mode": {
    "name": "ipython",
    "version": 3
   },
   "file_extension": ".py",
   "mimetype": "text/x-python",
   "name": "python",
   "nbconvert_exporter": "python",
   "pygments_lexer": "ipython3",
   "version": "3.7.12"
  }
 },
 "nbformat": 4,
 "nbformat_minor": 5
}
